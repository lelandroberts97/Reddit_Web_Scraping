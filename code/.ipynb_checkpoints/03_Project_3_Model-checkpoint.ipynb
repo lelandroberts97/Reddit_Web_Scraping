{
 "cells": [
  {
   "cell_type": "markdown",
   "metadata": {},
   "source": [
    "# Project 3: Skiing vs Snowboarding\n",
    "## Modeling"
   ]
  },
  {
   "cell_type": "code",
   "execution_count": 1,
   "metadata": {},
   "outputs": [],
   "source": [
    "# Imports\n",
    "import numpy as np\n",
    "import pandas as pd\n",
    "import seaborn as sns\n",
    "import matplotlib.pyplot as plt\n",
    "from sklearn.pipeline import Pipeline\n",
    "from sklearn.model_selection import train_test_split, GridSearchCV\n",
    "from sklearn.linear_model import LogisticRegression\n",
    "from sklearn.feature_extraction.text import CountVectorizer, TfidfVectorizer\n",
    "from sklearn.naive_bayes import MultinomialNB\n",
    "from sklearn.ensemble import RandomForestClassifier\n",
    "from sklearn.svm import SVC"
   ]
  },
  {
   "cell_type": "code",
   "execution_count": 2,
   "metadata": {},
   "outputs": [],
   "source": [
    "# Reading in csv\n",
    "ski_board = pd.read_csv('../Data/ski_board.csv')"
   ]
  },
  {
   "cell_type": "code",
   "execution_count": 3,
   "metadata": {},
   "outputs": [],
   "source": [
    "# Defining custom stop words\n",
    "from sklearn.feature_extraction.text import ENGLISH_STOP_WORDS\n",
    "my_stop_words = ENGLISH_STOP_WORDS.union({\n",
    "    'ski',\n",
    "    'skiing',\n",
    "    'skis',\n",
    "    'snowboarding',\n",
    "    'snowboard',\n",
    "    'board',\n",
    "    'skier',\n",
    "    'skied',\n",
    "    'skiers',\n",
    "    'snowboards',\n",
    "    'boards',\n",
    "    'boarding'\n",
    "})"
   ]
  },
  {
   "cell_type": "code",
   "execution_count": 4,
   "metadata": {},
   "outputs": [],
   "source": [
    "# Defining our feature vectors and prediction vector\n",
    "X = ski_board['text']\n",
    "y = ski_board['class']"
   ]
  },
  {
   "cell_type": "code",
   "execution_count": 5,
   "metadata": {},
   "outputs": [
    {
     "data": {
      "text/plain": [
       "1    52.063623\n",
       "0    47.936377\n",
       "Name: class, dtype: float64"
      ]
     },
     "execution_count": 5,
     "metadata": {},
     "output_type": "execute_result"
    }
   ],
   "source": [
    "# Baseline accuracy\n",
    "y.value_counts(normalize=True)*100"
   ]
  },
  {
   "cell_type": "code",
   "execution_count": 6,
   "metadata": {},
   "outputs": [],
   "source": [
    "# Train test split\n",
    "X_train, X_test, y_train, y_test = train_test_split(X, y, random_state=42, stratify=y)"
   ]
  },
  {
   "cell_type": "markdown",
   "metadata": {},
   "source": [
    "### Multinomial Naive Bayes"
   ]
  },
  {
   "cell_type": "code",
   "execution_count": 7,
   "metadata": {},
   "outputs": [],
   "source": [
    "# Creating a pipeline that strands together the CountVectorize transformer and Multinomial Naive Bayes estimator\n",
    "pipe_c = Pipeline([\n",
    "    ('cvec', CountVectorizer()),\n",
    "    ('clf', MultinomialNB())\n",
    "])\n",
    "# Creating a pipeline that strands together the TfidfVectorize transformer and the Multinomial Naive Bayes estimator\n",
    "pipe_t = Pipeline([\n",
    "    ('tvec', TfidfVectorizer()),\n",
    "    ('clf', MultinomialNB())\n",
    "])"
   ]
  },
  {
   "cell_type": "code",
   "execution_count": 8,
   "metadata": {},
   "outputs": [],
   "source": [
    "# Defining the parameters we want our gridsearch to test over\n",
    "pipe_c_params = {\n",
    "    'cvec__max_features': [100, 500, 1000],\n",
    "    'cvec__stop_words': [my_stop_words],\n",
    "    'cvec__ngram_range': [(1,1), (1,2)]\n",
    "}\n",
    "pipe_t_params = {\n",
    "    'tvec__max_features': [100, 500, 1000],\n",
    "    'tvec__stop_words': [my_stop_words],\n",
    "    'tvec__ngram_range': [(1,1), (1,2)]\n",
    "}"
   ]
  },
  {
   "cell_type": "code",
   "execution_count": 9,
   "metadata": {},
   "outputs": [],
   "source": [
    "# Instantiating the GridSearchCV\n",
    "gs_c = GridSearchCV(pipe_c, pipe_c_params, cv=3)\n",
    "gs_t = GridSearchCV(pipe_t, pipe_t_params, cv=3)"
   ]
  },
  {
   "cell_type": "code",
   "execution_count": 10,
   "metadata": {},
   "outputs": [],
   "source": [
    "# Fitting GridSearch to the training data\n",
    "gs_c.fit(X_train, y_train);\n",
    "gs_t.fit(X_train, y_train);"
   ]
  },
  {
   "cell_type": "code",
   "execution_count": 11,
   "metadata": {},
   "outputs": [
    {
     "name": "stdout",
     "output_type": "stream",
     "text": [
      "Scores Using CountVectorizer:\n",
      "Score on training set: 0.7526055951727921\n",
      "Score on testing set: 0.7209429824561403\n"
     ]
    }
   ],
   "source": [
    "print('Scores Using CountVectorizer:')\n",
    "print(f'Score on training set: {gs_c.score(X_train, y_train)}')\n",
    "print(f'Score on testing set: {gs_c.score(X_test, y_test)}')"
   ]
  },
  {
   "cell_type": "code",
   "execution_count": 12,
   "metadata": {},
   "outputs": [
    {
     "name": "stdout",
     "output_type": "stream",
     "text": [
      "Scores Using TfidfVectorizer:\n",
      "Score on training set: 0.763210824648016\n",
      "Score on testing set: 0.71875\n"
     ]
    }
   ],
   "source": [
    "print('Scores Using TfidfVectorizer:')\n",
    "print(f'Score on training set: {gs_t.score(X_train, y_train)}')\n",
    "print(f'Score on testing set: {gs_t.score(X_test, y_test)}')"
   ]
  },
  {
   "cell_type": "markdown",
   "metadata": {},
   "source": [
    "#### Adding Title to Selftext\n",
    "To improve the model, I will test a model using the column with the title and selftext combined. Hopefully this will add useful information to the model, and increase its performance."
   ]
  },
  {
   "cell_type": "code",
   "execution_count": 46,
   "metadata": {},
   "outputs": [],
   "source": [
    "# Defining our new feature to be the title and selftext combined\n",
    "X = ski_board['title_text']\n",
    "X_train, X_test, y_train, y_test = train_test_split(X, y, random_state=42, stratify=y)"
   ]
  },
  {
   "cell_type": "code",
   "execution_count": 47,
   "metadata": {},
   "outputs": [],
   "source": [
    "# Creating a pipeline that strands together the CountVectorize transformer and Multinomial Naive Bayes estimator\n",
    "pipe_c = Pipeline([\n",
    "    ('cvec', CountVectorizer()),\n",
    "    ('clf', MultinomialNB())\n",
    "])\n",
    "# Creating a pipeline that strands together the TfidfVectorize transformer and the Multinomial Naive Bayes estimator\n",
    "pipe_t = Pipeline([\n",
    "    ('tvec', TfidfVectorizer()),\n",
    "    ('clf', MultinomialNB())\n",
    "])"
   ]
  },
  {
   "cell_type": "code",
   "execution_count": 48,
   "metadata": {},
   "outputs": [],
   "source": [
    "# Defining the parameters we want our gridsearch to test over\n",
    "pipe_c_params = {\n",
    "    'cvec__max_features': [100, 500, 1000],\n",
    "    'cvec__stop_words': [my_stop_words],\n",
    "    'cvec__ngram_range': [(1,1), (1,2)]\n",
    "}\n",
    "pipe_t_params = {\n",
    "    'tvec__max_features': [100, 500, 1000],\n",
    "    'tvec__stop_words': [my_stop_words],\n",
    "    'tvec__ngram_range': [(1,1), (1,2)]\n",
    "}"
   ]
  },
  {
   "cell_type": "code",
   "execution_count": 49,
   "metadata": {},
   "outputs": [],
   "source": [
    "# Instantiating the GridSearchCV\n",
    "gs_c = GridSearchCV(pipe_c, pipe_c_params, cv=3)\n",
    "gs_t = GridSearchCV(pipe_t, pipe_t_params, cv=3)"
   ]
  },
  {
   "cell_type": "code",
   "execution_count": 50,
   "metadata": {},
   "outputs": [],
   "source": [
    "# Fitting GridSearch to the training data\n",
    "gs_c.fit(X_train, y_train);\n",
    "gs_t.fit(X_train, y_train);"
   ]
  },
  {
   "cell_type": "code",
   "execution_count": 51,
   "metadata": {},
   "outputs": [
    {
     "name": "stdout",
     "output_type": "stream",
     "text": [
      "Scores Using CountVectorizer:\n",
      "Score on training set: 0.7613823368074603\n",
      "Score on testing set: 0.7505482456140351\n"
     ]
    }
   ],
   "source": [
    "print('Scores Using CountVectorizer:')\n",
    "print(f'Score on training set: {gs_c.score(X_train, y_train)}')\n",
    "print(f'Score on testing set: {gs_c.score(X_test, y_test)}')"
   ]
  },
  {
   "cell_type": "code",
   "execution_count": 52,
   "metadata": {
    "scrolled": true
   },
   "outputs": [
    {
     "name": "stdout",
     "output_type": "stream",
     "text": [
      "Scores Using TfidfVectorizer:\n",
      "Score on training set: 0.772536112634851\n",
      "Score on testing set: 0.7417763157894737\n"
     ]
    }
   ],
   "source": [
    "print('Scores Using TfidfVectorizer:')\n",
    "print(f'Score on training set: {gs_t.score(X_train, y_train)}')\n",
    "print(f'Score on testing set: {gs_t.score(X_test, y_test)}')"
   ]
  },
  {
   "cell_type": "markdown",
   "metadata": {},
   "source": [
    "#### Note on Adding Title:\n",
    "Adding the title did not have a large effect on the model, but it did slightly lower both the bias and the variance. This is good because this means it is likely that the title is not adding too much noise, but rather additional information. I will continue to use both the title and text.\n",
    "\n",
    "#### Best Parameters for CountVectorizer and TfidfVectorizer:\n",
    "- max_features: 1000\n",
    "- ngram_range: (1,1)\n",
    "\n",
    "#### Final Scores for the Best Multinomial Naive Bayes Model Using CountVectorizer:\n",
    "- Accuracy on training set: 76.1%\n",
    "- Accuracy on testing set: 75.1% "
   ]
  },
  {
   "cell_type": "markdown",
   "metadata": {},
   "source": [
    "### Random Forest"
   ]
  },
  {
   "cell_type": "code",
   "execution_count": 90,
   "metadata": {},
   "outputs": [],
   "source": [
    "# Vectorizing our features using CountVectorizer\n",
    "cvec = CountVectorizer(max_features=1000, stop_words=my_stop_words)\n",
    "X_train_cvec = cvec.fit_transform(X_train)\n",
    "X_test_cvec = cvec.transform(X_test)"
   ]
  },
  {
   "cell_type": "code",
   "execution_count": 91,
   "metadata": {},
   "outputs": [],
   "source": [
    "# Vectorizing our features using TfidfVectorizer\n",
    "tvec = TfidfVectorizer(max_features=1000, stop_words=my_stop_words)\n",
    "X_train_tvec = tvec.fit_transform(X_train)\n",
    "X_test_tvec = tvec.transform(X_test)"
   ]
  },
  {
   "cell_type": "code",
   "execution_count": 92,
   "metadata": {},
   "outputs": [],
   "source": [
    "# Instantiating RandomForestClassifier\n",
    "rf_c = RandomForestClassifier(random_state=42)\n",
    "rf_t = RandomForestClassifier(random_state=42)"
   ]
  },
  {
   "cell_type": "code",
   "execution_count": 93,
   "metadata": {},
   "outputs": [],
   "source": [
    "# Defining the parameters we want our gridsearch to test over\n",
    "rf_c_params={\n",
    "    'n_estimators': [100,150,200],\n",
    "    'max_depth': [1,2,3,4,5],\n",
    "    'min_samples_split': [2,4,6]\n",
    "}\n",
    "rf_t_params={\n",
    "    'n_estimators': [100,150,200],\n",
    "    'max_depth': [1,2,3,4,5],\n",
    "    'min_samples_split': [2,4,6]\n",
    "}"
   ]
  },
  {
   "cell_type": "code",
   "execution_count": 94,
   "metadata": {},
   "outputs": [],
   "source": [
    "# Instantiating the GridSearchCV\n",
    "gs_c = GridSearchCV(rf_c, rf_c_params, cv=3)\n",
    "gs_t = GridSearchCV(rf_t, rf_t_params, cv=3)\n",
    "\n",
    "# Fitting GridSearch to the training data\n",
    "gs_c.fit(X_train_cvec, y_train);\n",
    "gs_t.fit(X_train_tvec, y_train);"
   ]
  },
  {
   "cell_type": "code",
   "execution_count": 95,
   "metadata": {},
   "outputs": [
    {
     "name": "stdout",
     "output_type": "stream",
     "text": [
      "Scores Using CountVectorizer:\n",
      "Score on training set: 0.7193271164746754\n",
      "Score on testing set: 0.6990131578947368\n"
     ]
    }
   ],
   "source": [
    "print('Scores Using CountVectorizer:')\n",
    "print(f'Score on training set: {gs_c.score(X_train_cvec, y_train)}')\n",
    "print(f'Score on testing set: {gs_c.score(X_test_cvec, y_test)}')"
   ]
  },
  {
   "cell_type": "code",
   "execution_count": 96,
   "metadata": {},
   "outputs": [
    {
     "name": "stdout",
     "output_type": "stream",
     "text": [
      "Scores Using TfidfVectorizer:\n",
      "Score on training set: 0.7281038581093435\n",
      "Score on testing set: 0.7083333333333334\n"
     ]
    }
   ],
   "source": [
    "print('Scores Using TfidfVectorizer:')\n",
    "print(f'Score on training set: {gs_t.score(X_train_tvec, y_train)}')\n",
    "print(f'Score on testing set: {gs_t.score(X_test_tvec, y_test)}')"
   ]
  },
  {
   "cell_type": "markdown",
   "metadata": {},
   "source": [
    "#### Note:\n",
    "It seems there is hardly a difference between CountVectorizer and TfidfVectorizer. Each performed about the same on both the Naive Bays model and the Random Forest model. "
   ]
  },
  {
   "cell_type": "code",
   "execution_count": 97,
   "metadata": {},
   "outputs": [
    {
     "data": {
      "text/plain": [
       "{'max_depth': 5, 'min_samples_split': 2, 'n_estimators': 100}"
      ]
     },
     "execution_count": 97,
     "metadata": {},
     "output_type": "execute_result"
    }
   ],
   "source": [
    "# Checking the best parameters using CountVectorizer\n",
    "gs_c.best_params_"
   ]
  },
  {
   "cell_type": "code",
   "execution_count": 98,
   "metadata": {},
   "outputs": [
    {
     "data": {
      "text/plain": [
       "{'max_depth': 5, 'min_samples_split': 2, 'n_estimators': 150}"
      ]
     },
     "execution_count": 98,
     "metadata": {},
     "output_type": "execute_result"
    }
   ],
   "source": [
    "# Checking the best parameters using TfidfVectorizer\n",
    "gs_t.best_params_"
   ]
  },
  {
   "cell_type": "code",
   "execution_count": 99,
   "metadata": {},
   "outputs": [],
   "source": [
    "# Defining our best estimator\n",
    "rf = gs_t.best_estimator_"
   ]
  },
  {
   "cell_type": "code",
   "execution_count": 100,
   "metadata": {
    "scrolled": false
   },
   "outputs": [
    {
     "data": {
      "text/plain": [
       "burton      0.092705\n",
       "ride        0.082086\n",
       "riding      0.077457\n",
       "size        0.036509\n",
       "pair        0.035805\n",
       "rider       0.034652\n",
       "capita      0.033160\n",
       "camber      0.032085\n",
       "atomic      0.022204\n",
       "park        0.020930\n",
       "shred       0.019844\n",
       "arbor       0.014697\n",
       "bindings    0.014440\n",
       "gnu         0.014364\n",
       "lib         0.014033\n",
       "piste       0.013874\n",
       "touring     0.013024\n",
       "union       0.011739\n",
       "jumps       0.009921\n",
       "rode        0.009389\n",
       "orca        0.009349\n",
       "mm          0.008824\n",
       "crows       0.008709\n",
       "alta        0.008139\n",
       "ridden      0.007551\n",
       "dtype: float64"
      ]
     },
     "execution_count": 100,
     "metadata": {},
     "output_type": "execute_result"
    }
   ],
   "source": [
    "# Sorting the most important features\n",
    "pd.Series(data=rf.feature_importances_,index=cvec.get_feature_names()).sort_values(ascending=False).head(25)"
   ]
  },
  {
   "cell_type": "code",
   "execution_count": 101,
   "metadata": {},
   "outputs": [
    {
     "data": {
      "text/plain": [
       "<matplotlib.axes._subplots.AxesSubplot at 0x1a1b6e3910>"
      ]
     },
     "execution_count": 101,
     "metadata": {},
     "output_type": "execute_result"
    },
    {
     "data": {
      "image/png": "[encoded data removed]",
      "text/plain": [
       "<Figure size 432x288 with 1 Axes>"
      ]
     },
     "metadata": {
      "needs_background": "light"
     },
     "output_type": "display_data"
    }
   ],
   "source": [
    "# Plotting the most important features\n",
    "pd.Series(data=rf.feature_importances_,\n",
    "          index=cvec.get_feature_names()).sort_values(ascending=False).head(15).plot(kind='barh',\n",
    "                                                                                    fontsize=10)"
   ]
  },
  {
   "cell_type": "markdown",
   "metadata": {},
   "source": [
    "#### Best Parameters for Random Forest:\n",
    "- n_estimators: 150\n",
    "- max_depth: 5\n",
    "- min_samples_split: 2\n",
    "\n",
    "#### Final Scores for the Best Random Forest Model Using TfidfVectorizer:\n",
    "- Accuracy on the training set: 72.8%\n",
    "- Accuracy on the testing set: 70.8%\n",
    "\n",
    "#### Final Scores for the Best Random Forest Model Using TfidfVectorizer and English Stop Words:\n",
    "- Accuracy on training set: 87%\n",
    "- Accuracy on testing set: 86% "
   ]
  },
  {
   "cell_type": "markdown",
   "metadata": {},
   "source": [
    "### Support Vector Machine"
   ]
  },
  {
   "cell_type": "code",
   "execution_count": 31,
   "metadata": {},
   "outputs": [],
   "source": [
    "# Instantiating SVM\n",
    "# svc = SVC(random_state=42)\n",
    "\n",
    "# Defining parameters to search over\n",
    "# svc_params = {\n",
    "    #'C': np.logspace(-3, 2, 20),\n",
    "#     'C': [.01, 1, 2, 5, 10, 25],\n",
    "#     'kernel': ['linear', 'poly', 'sigmoid', 'rbf']\n",
    "# }"
   ]
  },
  {
   "cell_type": "code",
   "execution_count": 32,
   "metadata": {},
   "outputs": [],
   "source": [
    "# Instantiating GridSearchCV\n",
    "# gs_c = GridSearchCV(svc, param_grid=svc_params, cv=3)\n",
    "# gs_t = GridSearchCV(svc, param_grid=svc_params, cv=3)\n",
    "\n",
    "# # Fitting the models\n",
    "# gs_c.fit(X_train_cvec, y_train)\n",
    "# gs_t.fit(X_train_tvec, y_train)"
   ]
  },
  {
   "cell_type": "markdown",
   "metadata": {},
   "source": [
    "#### Note on Support Vector Machine:\n",
    "For some reason, my support vector machine model was taking way too long to fit. I waited over an hour and it did not fit. I'm only fitting 144 models, so I did not expect it to take so long. I would like to explore this further at a later date."
   ]
  }
 ],
 "metadata": {
  "kernelspec": {
   "display_name": "Python 3",
   "language": "python",
   "name": "python3"
  },
  "language_info": {
   "codemirror_mode": {
    "name": "ipython",
    "version": 3
   },
   "file_extension": ".py",
   "mimetype": "text/x-python",
   "name": "python",
   "nbconvert_exporter": "python",
   "pygments_lexer": "ipython3",
   "version": "3.7.4"
  }
 },
 "nbformat": 4,
 "nbformat_minor": 2
}
