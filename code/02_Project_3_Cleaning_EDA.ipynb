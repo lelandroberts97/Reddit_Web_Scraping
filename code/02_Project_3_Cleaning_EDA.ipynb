{
 "cells": [
  {
   "cell_type": "markdown",
   "metadata": {},
   "source": [
    "# Project 3: Skiing vs Snowboarding\n",
    "## Data Cleaning"
   ]
  },
  {
   "cell_type": "code",
   "execution_count": 1,
   "metadata": {},
   "outputs": [],
   "source": [
    "# Imports\n",
    "import pandas as pd\n",
    "import seaborn as sns\n",
    "import matplotlib.pyplot as plt\n",
    "from sklearn.model_selection import train_test_split\n",
    "from sklearn.feature_extraction.text import CountVectorizer, TfidfVectorizer"
   ]
  },
  {
   "cell_type": "code",
   "execution_count": 2,
   "metadata": {},
   "outputs": [],
   "source": [
    "ski = pd.read_csv('../Data/skiing.csv')\n",
    "board = pd.read_csv('../Data/snowboarding.csv')"
   ]
  },
  {
   "cell_type": "markdown",
   "metadata": {},
   "source": [
    "### Skiing Data"
   ]
  },
  {
   "cell_type": "code",
   "execution_count": 3,
   "metadata": {},
   "outputs": [
    {
     "data": {
      "text/html": [
       "<div>\n",
       "<style scoped>\n",
       "    .dataframe tbody tr th:only-of-type {\n",
       "        vertical-align: middle;\n",
       "    }\n",
       "\n",
       "    .dataframe tbody tr th {\n",
       "        vertical-align: top;\n",
       "    }\n",
       "\n",
       "    .dataframe thead th {\n",
       "        text-align: right;\n",
       "    }\n",
       "</style>\n",
       "<table border=\"1\" class=\"dataframe\">\n",
       "  <thead>\n",
       "    <tr style=\"text-align: right;\">\n",
       "      <th></th>\n",
       "      <th>title</th>\n",
       "      <th>text</th>\n",
       "      <th>subreddit</th>\n",
       "      <th>created</th>\n",
       "      <th>author</th>\n",
       "      <th>is_self</th>\n",
       "      <th>timestamp</th>\n",
       "      <th>class</th>\n",
       "    </tr>\n",
       "  </thead>\n",
       "  <tbody>\n",
       "    <tr>\n",
       "      <th>0</th>\n",
       "      <td>First set of skis.</td>\n",
       "      <td>So I am thinking about getting my first skis (...</td>\n",
       "      <td>skiing</td>\n",
       "      <td>1579818807</td>\n",
       "      <td>D3470</td>\n",
       "      <td>True</td>\n",
       "      <td>2020-01-23</td>\n",
       "      <td>1</td>\n",
       "    </tr>\n",
       "    <tr>\n",
       "      <th>1</th>\n",
       "      <td>Eastern Pennsylvania Skiing</td>\n",
       "      <td>Looking for any advice at all. Or buddies! Goi...</td>\n",
       "      <td>skiing</td>\n",
       "      <td>1579822807</td>\n",
       "      <td>potatoes6</td>\n",
       "      <td>True</td>\n",
       "      <td>2020-01-23</td>\n",
       "      <td>1</td>\n",
       "    </tr>\n",
       "    <tr>\n",
       "      <th>2</th>\n",
       "      <td>OK Marksman, Bentchetler 100 for a solid daily...</td>\n",
       "      <td>Thanks for the help y’all!</td>\n",
       "      <td>skiing</td>\n",
       "      <td>1579823764</td>\n",
       "      <td>mrrichmahogany</td>\n",
       "      <td>True</td>\n",
       "      <td>2020-01-23</td>\n",
       "      <td>1</td>\n",
       "    </tr>\n",
       "    <tr>\n",
       "      <th>3</th>\n",
       "      <td>Hank Bilous Massive Transfer &amp;amp; Full Run | ...</td>\n",
       "      <td>[https://www.newschoolers.com/videos/watch/951...</td>\n",
       "      <td>skiing</td>\n",
       "      <td>1579824890</td>\n",
       "      <td>jurassisaurus</td>\n",
       "      <td>True</td>\n",
       "      <td>2020-01-23</td>\n",
       "      <td>1</td>\n",
       "    </tr>\n",
       "    <tr>\n",
       "      <th>4</th>\n",
       "      <td>Niseko Danger</td>\n",
       "      <td>Just trying to get a general feel for how dang...</td>\n",
       "      <td>skiing</td>\n",
       "      <td>1579827729</td>\n",
       "      <td>IndoorSurvivalist</td>\n",
       "      <td>True</td>\n",
       "      <td>2020-01-23</td>\n",
       "      <td>1</td>\n",
       "    </tr>\n",
       "  </tbody>\n",
       "</table>\n",
       "</div>"
      ],
      "text/plain": [
       "                                               title  \\\n",
       "0                                 First set of skis.   \n",
       "1                        Eastern Pennsylvania Skiing   \n",
       "2  OK Marksman, Bentchetler 100 for a solid daily...   \n",
       "3  Hank Bilous Massive Transfer &amp; Full Run | ...   \n",
       "4                                      Niseko Danger   \n",
       "\n",
       "                                                text subreddit     created  \\\n",
       "0  So I am thinking about getting my first skis (...    skiing  1579818807   \n",
       "1  Looking for any advice at all. Or buddies! Goi...    skiing  1579822807   \n",
       "2                         Thanks for the help y’all!    skiing  1579823764   \n",
       "3  [https://www.newschoolers.com/videos/watch/951...    skiing  1579824890   \n",
       "4  Just trying to get a general feel for how dang...    skiing  1579827729   \n",
       "\n",
       "              author  is_self   timestamp  class  \n",
       "0              D3470     True  2020-01-23      1  \n",
       "1          potatoes6     True  2020-01-23      1  \n",
       "2     mrrichmahogany     True  2020-01-23      1  \n",
       "3      jurassisaurus     True  2020-01-23      1  \n",
       "4  IndoorSurvivalist     True  2020-01-23      1  "
      ]
     },
     "execution_count": 3,
     "metadata": {},
     "output_type": "execute_result"
    }
   ],
   "source": [
    "ski.head() # Looking at the data frame"
   ]
  },
  {
   "cell_type": "code",
   "execution_count": 4,
   "metadata": {
    "scrolled": true
   },
   "outputs": [
    {
     "data": {
      "text/plain": [
       "title        0\n",
       "text         0\n",
       "subreddit    0\n",
       "created      0\n",
       "author       0\n",
       "is_self      0\n",
       "timestamp    0\n",
       "class        0\n",
       "dtype: int64"
      ]
     },
     "execution_count": 4,
     "metadata": {},
     "output_type": "execute_result"
    }
   ],
   "source": [
    "# Checking for null values\n",
    "ski.isnull().sum()"
   ]
  },
  {
   "cell_type": "markdown",
   "metadata": {},
   "source": [
    "#### Null Values:\n",
    "There are no null values in the skiing data frame."
   ]
  },
  {
   "cell_type": "code",
   "execution_count": 5,
   "metadata": {},
   "outputs": [
    {
     "data": {
      "text/plain": [
       "True"
      ]
     },
     "execution_count": 5,
     "metadata": {},
     "output_type": "execute_result"
    }
   ],
   "source": [
    "# Checking for duplicate posts\n",
    "ski.drop_duplicates(subset = ['title', 'text', 'author']).shape == ski.shape"
   ]
  },
  {
   "cell_type": "markdown",
   "metadata": {},
   "source": [
    "#### Duplicates:\n",
    "There are no duplicate posts in the skiing data frame."
   ]
  },
  {
   "cell_type": "code",
   "execution_count": 6,
   "metadata": {},
   "outputs": [],
   "source": [
    "# Removing numeric text, as these likely have no meaning for our use case\n",
    "ski['text'] = ski['text'].map(lambda x: ''.join([i for i in x if not i.isdigit()]))"
   ]
  },
  {
   "cell_type": "code",
   "execution_count": 7,
   "metadata": {},
   "outputs": [],
   "source": [
    "# I noticed the escape character \\n in some of the documents, so I will remove these\n",
    "ski['text'] = ski['text'].map(lambda x: x.replace('\\n', ''))"
   ]
  },
  {
   "cell_type": "code",
   "execution_count": 8,
   "metadata": {},
   "outputs": [],
   "source": [
    "# Removing documents with urls, as these likely have no meaning for our use case\n",
    "# ski = ski.loc[(~ski['text'].str.contains('www')) & (~ski['text'].str.contains('com'))]"
   ]
  },
  {
   "cell_type": "code",
   "execution_count": 9,
   "metadata": {
    "scrolled": false
   },
   "outputs": [
    {
     "data": {
      "text/html": [
       "<div>\n",
       "<style scoped>\n",
       "    .dataframe tbody tr th:only-of-type {\n",
       "        vertical-align: middle;\n",
       "    }\n",
       "\n",
       "    .dataframe tbody tr th {\n",
       "        vertical-align: top;\n",
       "    }\n",
       "\n",
       "    .dataframe thead th {\n",
       "        text-align: right;\n",
       "    }\n",
       "</style>\n",
       "<table border=\"1\" class=\"dataframe\">\n",
       "  <thead>\n",
       "    <tr style=\"text-align: right;\">\n",
       "      <th></th>\n",
       "      <th>title</th>\n",
       "      <th>text</th>\n",
       "      <th>subreddit</th>\n",
       "      <th>created</th>\n",
       "      <th>author</th>\n",
       "      <th>is_self</th>\n",
       "      <th>timestamp</th>\n",
       "      <th>class</th>\n",
       "    </tr>\n",
       "  </thead>\n",
       "  <tbody>\n",
       "    <tr>\n",
       "      <th>15</th>\n",
       "      <td>[Jan 24, 2020] Weekly Discussion: Ask your gea...</td>\n",
       "      <td>Please ask any ski-related questions here. It'...</td>\n",
       "      <td>skiing</td>\n",
       "      <td>1579845980</td>\n",
       "      <td>AutoModerator</td>\n",
       "      <td>True</td>\n",
       "      <td>2020-01-24</td>\n",
       "      <td>1</td>\n",
       "    </tr>\n",
       "    <tr>\n",
       "      <th>350</th>\n",
       "      <td>[Jan 17, 2020] Weekly Discussion: Ask your gea...</td>\n",
       "      <td>Please ask any ski-related questions here. It'...</td>\n",
       "      <td>skiing</td>\n",
       "      <td>1579241158</td>\n",
       "      <td>AutoModerator</td>\n",
       "      <td>True</td>\n",
       "      <td>2020-01-17</td>\n",
       "      <td>1</td>\n",
       "    </tr>\n",
       "    <tr>\n",
       "      <th>448</th>\n",
       "      <td>[Jan 10, 2020] Weekly Discussion: Ask your gea...</td>\n",
       "      <td>Please ask any ski-related questions here. It'...</td>\n",
       "      <td>skiing</td>\n",
       "      <td>1578636371</td>\n",
       "      <td>AutoModerator</td>\n",
       "      <td>True</td>\n",
       "      <td>2020-01-10</td>\n",
       "      <td>1</td>\n",
       "    </tr>\n",
       "    <tr>\n",
       "      <th>823</th>\n",
       "      <td>[Jan 03, 2020] Weekly Discussion: Ask your gea...</td>\n",
       "      <td>Please ask any ski-related questions here. It'...</td>\n",
       "      <td>skiing</td>\n",
       "      <td>1578031531</td>\n",
       "      <td>AutoModerator</td>\n",
       "      <td>True</td>\n",
       "      <td>2020-01-03</td>\n",
       "      <td>1</td>\n",
       "    </tr>\n",
       "    <tr>\n",
       "      <th>904</th>\n",
       "      <td>[Dec 27, 2019] Weekly Discussion: Ask your gea...</td>\n",
       "      <td>Please ask any ski-related questions here. It'...</td>\n",
       "      <td>skiing</td>\n",
       "      <td>1577426746</td>\n",
       "      <td>AutoModerator</td>\n",
       "      <td>True</td>\n",
       "      <td>2019-12-27</td>\n",
       "      <td>1</td>\n",
       "    </tr>\n",
       "  </tbody>\n",
       "</table>\n",
       "</div>"
      ],
      "text/plain": [
       "                                                 title  \\\n",
       "15   [Jan 24, 2020] Weekly Discussion: Ask your gea...   \n",
       "350  [Jan 17, 2020] Weekly Discussion: Ask your gea...   \n",
       "448  [Jan 10, 2020] Weekly Discussion: Ask your gea...   \n",
       "823  [Jan 03, 2020] Weekly Discussion: Ask your gea...   \n",
       "904  [Dec 27, 2019] Weekly Discussion: Ask your gea...   \n",
       "\n",
       "                                                  text subreddit     created  \\\n",
       "15   Please ask any ski-related questions here. It'...    skiing  1579845980   \n",
       "350  Please ask any ski-related questions here. It'...    skiing  1579241158   \n",
       "448  Please ask any ski-related questions here. It'...    skiing  1578636371   \n",
       "823  Please ask any ski-related questions here. It'...    skiing  1578031531   \n",
       "904  Please ask any ski-related questions here. It'...    skiing  1577426746   \n",
       "\n",
       "            author  is_self   timestamp  class  \n",
       "15   AutoModerator     True  2020-01-24      1  \n",
       "350  AutoModerator     True  2020-01-17      1  \n",
       "448  AutoModerator     True  2020-01-10      1  \n",
       "823  AutoModerator     True  2020-01-03      1  \n",
       "904  AutoModerator     True  2019-12-27      1  "
      ]
     },
     "execution_count": 9,
     "metadata": {},
     "output_type": "execute_result"
    }
   ],
   "source": [
    "# There is a common bot on reddit called 'AutoModerator', so I will check for these\n",
    "ski.loc[ski['author'] == 'AutoModerator'].head()"
   ]
  },
  {
   "cell_type": "code",
   "execution_count": 10,
   "metadata": {},
   "outputs": [],
   "source": [
    "ski = ski.loc[ski['author'] != 'AutoModerator'] # Deleting documents creates by AutoModerator"
   ]
  },
  {
   "cell_type": "markdown",
   "metadata": {},
   "source": [
    "#### Combining Title and Text:\n",
    "Titles could add useful information to the model. I will create a new column with both title and text, and test it with models to see how it performs against just the selftext."
   ]
  },
  {
   "cell_type": "code",
   "execution_count": 11,
   "metadata": {},
   "outputs": [],
   "source": [
    "# Creating a new column combining the title and text of the posts\n",
    "ski['title_text'] = ski['title'] + ski['text']"
   ]
  },
  {
   "cell_type": "code",
   "execution_count": 12,
   "metadata": {},
   "outputs": [
    {
     "data": {
      "text/plain": [
       "(3797, 9)"
      ]
     },
     "execution_count": 12,
     "metadata": {},
     "output_type": "execute_result"
    }
   ],
   "source": [
    "ski.shape # Checking the final shape"
   ]
  },
  {
   "cell_type": "markdown",
   "metadata": {},
   "source": [
    "### Snowboarding Data"
   ]
  },
  {
   "cell_type": "code",
   "execution_count": 13,
   "metadata": {},
   "outputs": [
    {
     "data": {
      "text/html": [
       "<div>\n",
       "<style scoped>\n",
       "    .dataframe tbody tr th:only-of-type {\n",
       "        vertical-align: middle;\n",
       "    }\n",
       "\n",
       "    .dataframe tbody tr th {\n",
       "        vertical-align: top;\n",
       "    }\n",
       "\n",
       "    .dataframe thead th {\n",
       "        text-align: right;\n",
       "    }\n",
       "</style>\n",
       "<table border=\"1\" class=\"dataframe\">\n",
       "  <thead>\n",
       "    <tr style=\"text-align: right;\">\n",
       "      <th></th>\n",
       "      <th>title</th>\n",
       "      <th>text</th>\n",
       "      <th>subreddit</th>\n",
       "      <th>created</th>\n",
       "      <th>author</th>\n",
       "      <th>is_self</th>\n",
       "      <th>timestamp</th>\n",
       "      <th>class</th>\n",
       "    </tr>\n",
       "  </thead>\n",
       "  <tbody>\n",
       "    <tr>\n",
       "      <th>0</th>\n",
       "      <td>Buying a board, need opinions on size.</td>\n",
       "      <td>I want to get back into snowboarding, havent d...</td>\n",
       "      <td>snowboarding</td>\n",
       "      <td>1579830441</td>\n",
       "      <td>tfr737</td>\n",
       "      <td>True</td>\n",
       "      <td>2020-01-23</td>\n",
       "      <td>0</td>\n",
       "    </tr>\n",
       "    <tr>\n",
       "      <th>1</th>\n",
       "      <td>Beginner advice!</td>\n",
       "      <td>So a little context, I used to ski, went ridin...</td>\n",
       "      <td>snowboarding</td>\n",
       "      <td>1579830507</td>\n",
       "      <td>Mcapp-1</td>\n",
       "      <td>True</td>\n",
       "      <td>2020-01-23</td>\n",
       "      <td>0</td>\n",
       "    </tr>\n",
       "    <tr>\n",
       "      <th>2</th>\n",
       "      <td>Burton snowboarding jacket sizing for a small guy</td>\n",
       "      <td>I am no big guy by American standards: 5'6\", a...</td>\n",
       "      <td>snowboarding</td>\n",
       "      <td>1579835749</td>\n",
       "      <td>bmw-fanboy</td>\n",
       "      <td>True</td>\n",
       "      <td>2020-01-23</td>\n",
       "      <td>0</td>\n",
       "    </tr>\n",
       "    <tr>\n",
       "      <th>3</th>\n",
       "      <td>New Snowboarder here, what’s the deal with the...</td>\n",
       "      <td>So my wife and I are just getting into snowboa...</td>\n",
       "      <td>snowboarding</td>\n",
       "      <td>1579836431</td>\n",
       "      <td>GoingDigitl</td>\n",
       "      <td>True</td>\n",
       "      <td>2020-01-23</td>\n",
       "      <td>0</td>\n",
       "    </tr>\n",
       "    <tr>\n",
       "      <th>4</th>\n",
       "      <td>Do FORUM Boards have any value???</td>\n",
       "      <td>like is it worth keeping one?</td>\n",
       "      <td>snowboarding</td>\n",
       "      <td>1579849635</td>\n",
       "      <td>Contentclicker</td>\n",
       "      <td>True</td>\n",
       "      <td>2020-01-24</td>\n",
       "      <td>0</td>\n",
       "    </tr>\n",
       "  </tbody>\n",
       "</table>\n",
       "</div>"
      ],
      "text/plain": [
       "                                               title  \\\n",
       "0             Buying a board, need opinions on size.   \n",
       "1                                   Beginner advice!   \n",
       "2  Burton snowboarding jacket sizing for a small guy   \n",
       "3  New Snowboarder here, what’s the deal with the...   \n",
       "4                  Do FORUM Boards have any value???   \n",
       "\n",
       "                                                text     subreddit  \\\n",
       "0  I want to get back into snowboarding, havent d...  snowboarding   \n",
       "1  So a little context, I used to ski, went ridin...  snowboarding   \n",
       "2  I am no big guy by American standards: 5'6\", a...  snowboarding   \n",
       "3  So my wife and I are just getting into snowboa...  snowboarding   \n",
       "4                      like is it worth keeping one?  snowboarding   \n",
       "\n",
       "      created          author  is_self   timestamp  class  \n",
       "0  1579830441          tfr737     True  2020-01-23      0  \n",
       "1  1579830507         Mcapp-1     True  2020-01-23      0  \n",
       "2  1579835749      bmw-fanboy     True  2020-01-23      0  \n",
       "3  1579836431     GoingDigitl     True  2020-01-23      0  \n",
       "4  1579849635  Contentclicker     True  2020-01-24      0  "
      ]
     },
     "execution_count": 13,
     "metadata": {},
     "output_type": "execute_result"
    }
   ],
   "source": [
    "board.head() # Looking at the data frame"
   ]
  },
  {
   "cell_type": "code",
   "execution_count": 14,
   "metadata": {},
   "outputs": [
    {
     "data": {
      "text/plain": [
       "title        0\n",
       "text         0\n",
       "subreddit    0\n",
       "created      0\n",
       "author       0\n",
       "is_self      0\n",
       "timestamp    0\n",
       "class        0\n",
       "dtype: int64"
      ]
     },
     "execution_count": 14,
     "metadata": {},
     "output_type": "execute_result"
    }
   ],
   "source": [
    "board.isnull().sum() # Checking for null values"
   ]
  },
  {
   "cell_type": "markdown",
   "metadata": {},
   "source": [
    "#### Null Values:\n",
    "There are no null values in the snowboarding data frame."
   ]
  },
  {
   "cell_type": "code",
   "execution_count": 15,
   "metadata": {},
   "outputs": [
    {
     "data": {
      "text/plain": [
       "True"
      ]
     },
     "execution_count": 15,
     "metadata": {},
     "output_type": "execute_result"
    }
   ],
   "source": [
    "# Checking for duplicate posts\n",
    "board.drop_duplicates(subset = ['title', 'text']).shape == board.shape"
   ]
  },
  {
   "cell_type": "markdown",
   "metadata": {},
   "source": [
    "#### Duplicates:\n",
    "There are no duplicates in the snowboarding data frame."
   ]
  },
  {
   "cell_type": "code",
   "execution_count": 16,
   "metadata": {},
   "outputs": [],
   "source": [
    "# Removing numeric text\n",
    "board['text'] = board['text'].map(lambda x: ''.join([i for i in x if not i.isdigit()]))"
   ]
  },
  {
   "cell_type": "code",
   "execution_count": 17,
   "metadata": {},
   "outputs": [],
   "source": [
    "# Removing '\\n's\n",
    "board['text'] = board['text'].map(lambda x: x.replace('\\n', ''))"
   ]
  },
  {
   "cell_type": "code",
   "execution_count": 18,
   "metadata": {},
   "outputs": [],
   "source": [
    "# Removing documents with urls\n",
    "# board = board.loc[(~board['text'].str.contains('www')) & (~board['text'].str.contains('com'))]"
   ]
  },
  {
   "cell_type": "code",
   "execution_count": 19,
   "metadata": {},
   "outputs": [
    {
     "data": {
      "text/html": [
       "<div>\n",
       "<style scoped>\n",
       "    .dataframe tbody tr th:only-of-type {\n",
       "        vertical-align: middle;\n",
       "    }\n",
       "\n",
       "    .dataframe tbody tr th {\n",
       "        vertical-align: top;\n",
       "    }\n",
       "\n",
       "    .dataframe thead th {\n",
       "        text-align: right;\n",
       "    }\n",
       "</style>\n",
       "<table border=\"1\" class=\"dataframe\">\n",
       "  <thead>\n",
       "    <tr style=\"text-align: right;\">\n",
       "      <th></th>\n",
       "      <th>title</th>\n",
       "      <th>text</th>\n",
       "      <th>subreddit</th>\n",
       "      <th>created</th>\n",
       "      <th>author</th>\n",
       "      <th>is_self</th>\n",
       "      <th>timestamp</th>\n",
       "      <th>class</th>\n",
       "    </tr>\n",
       "  </thead>\n",
       "  <tbody>\n",
       "    <tr>\n",
       "      <th>6</th>\n",
       "      <td>Daily Discussion: /r/Snowboarding General Disc...</td>\n",
       "      <td>Want to discuss current trends? Board shapes, ...</td>\n",
       "      <td>snowboarding</td>\n",
       "      <td>1579854779</td>\n",
       "      <td>AutoModerator</td>\n",
       "      <td>True</td>\n",
       "      <td>2020-01-24</td>\n",
       "      <td>0</td>\n",
       "    </tr>\n",
       "    <tr>\n",
       "      <th>7</th>\n",
       "      <td>Weekly /r/Snowboarding Gear/Quiver Thread -- J...</td>\n",
       "      <td>OK you know you want to show off that stunt st...</td>\n",
       "      <td>snowboarding</td>\n",
       "      <td>1579854787</td>\n",
       "      <td>AutoModerator</td>\n",
       "      <td>True</td>\n",
       "      <td>2020-01-24</td>\n",
       "      <td>0</td>\n",
       "    </tr>\n",
       "    <tr>\n",
       "      <th>29</th>\n",
       "      <td>Daily Discussion: /r/Snowboarding General Disc...</td>\n",
       "      <td>Want to discuss current trends? Board shapes, ...</td>\n",
       "      <td>snowboarding</td>\n",
       "      <td>1579941182</td>\n",
       "      <td>AutoModerator</td>\n",
       "      <td>True</td>\n",
       "      <td>2020-01-25</td>\n",
       "      <td>0</td>\n",
       "    </tr>\n",
       "    <tr>\n",
       "      <th>43</th>\n",
       "      <td>Daily Discussion: /r/Snowboarding General Disc...</td>\n",
       "      <td>Want to discuss current trends? Board shapes, ...</td>\n",
       "      <td>snowboarding</td>\n",
       "      <td>1580027570</td>\n",
       "      <td>AutoModerator</td>\n",
       "      <td>True</td>\n",
       "      <td>2020-01-26</td>\n",
       "      <td>0</td>\n",
       "    </tr>\n",
       "    <tr>\n",
       "      <th>44</th>\n",
       "      <td>Weekly /r/Snowboarding Non-Snowboarding Pictur...</td>\n",
       "      <td>This is the place for all of those pictures th...</td>\n",
       "      <td>snowboarding</td>\n",
       "      <td>1580027578</td>\n",
       "      <td>AutoModerator</td>\n",
       "      <td>True</td>\n",
       "      <td>2020-01-26</td>\n",
       "      <td>0</td>\n",
       "    </tr>\n",
       "  </tbody>\n",
       "</table>\n",
       "</div>"
      ],
      "text/plain": [
       "                                                title  \\\n",
       "6   Daily Discussion: /r/Snowboarding General Disc...   \n",
       "7   Weekly /r/Snowboarding Gear/Quiver Thread -- J...   \n",
       "29  Daily Discussion: /r/Snowboarding General Disc...   \n",
       "43  Daily Discussion: /r/Snowboarding General Disc...   \n",
       "44  Weekly /r/Snowboarding Non-Snowboarding Pictur...   \n",
       "\n",
       "                                                 text     subreddit  \\\n",
       "6   Want to discuss current trends? Board shapes, ...  snowboarding   \n",
       "7   OK you know you want to show off that stunt st...  snowboarding   \n",
       "29  Want to discuss current trends? Board shapes, ...  snowboarding   \n",
       "43  Want to discuss current trends? Board shapes, ...  snowboarding   \n",
       "44  This is the place for all of those pictures th...  snowboarding   \n",
       "\n",
       "       created         author  is_self   timestamp  class  \n",
       "6   1579854779  AutoModerator     True  2020-01-24      0  \n",
       "7   1579854787  AutoModerator     True  2020-01-24      0  \n",
       "29  1579941182  AutoModerator     True  2020-01-25      0  \n",
       "43  1580027570  AutoModerator     True  2020-01-26      0  \n",
       "44  1580027578  AutoModerator     True  2020-01-26      0  "
      ]
     },
     "execution_count": 19,
     "metadata": {},
     "output_type": "execute_result"
    }
   ],
   "source": [
    "# Checking for AutoModerator\n",
    "board.loc[board['author'] == 'AutoModerator'].head()"
   ]
  },
  {
   "cell_type": "code",
   "execution_count": 20,
   "metadata": {},
   "outputs": [],
   "source": [
    "board = board.loc[board['author'] != 'AutoModerator'] # Deleting documents creates by AutoModerator"
   ]
  },
  {
   "cell_type": "markdown",
   "metadata": {},
   "source": [
    "#### Combining Title and Text:\n",
    "I will do the same as I did for the skiing data frame."
   ]
  },
  {
   "cell_type": "code",
   "execution_count": 21,
   "metadata": {},
   "outputs": [],
   "source": [
    "# Creating a new column combining the title and text of the posts\n",
    "board['title_text'] = board['title'] + board['text']"
   ]
  },
  {
   "cell_type": "code",
   "execution_count": 22,
   "metadata": {},
   "outputs": [
    {
     "data": {
      "text/plain": [
       "(3496, 9)"
      ]
     },
     "execution_count": 22,
     "metadata": {},
     "output_type": "execute_result"
    }
   ],
   "source": [
    "board.shape # Checking the final shape"
   ]
  },
  {
   "cell_type": "markdown",
   "metadata": {},
   "source": [
    "### Combined Data Frame"
   ]
  },
  {
   "cell_type": "code",
   "execution_count": 23,
   "metadata": {},
   "outputs": [],
   "source": [
    "# Combining the two data frames for modeling\n",
    "ski_board = pd.concat([ski, board])"
   ]
  },
  {
   "cell_type": "code",
   "execution_count": 24,
   "metadata": {},
   "outputs": [
    {
     "data": {
      "text/plain": [
       "(7293, 9)"
      ]
     },
     "execution_count": 24,
     "metadata": {},
     "output_type": "execute_result"
    }
   ],
   "source": [
    "ski_board.shape # Checking the shape"
   ]
  },
  {
   "cell_type": "markdown",
   "metadata": {},
   "source": [
    "### Export"
   ]
  },
  {
   "cell_type": "code",
   "execution_count": 25,
   "metadata": {},
   "outputs": [],
   "source": [
    "# Exporting final data frame to csv for modeling\n",
    "# ski_board.to_csv('../Data/ski_board.csv', index=False)"
   ]
  },
  {
   "cell_type": "markdown",
   "metadata": {},
   "source": [
    "## EDA\n",
    "### Skiing Data"
   ]
  },
  {
   "cell_type": "code",
   "execution_count": 26,
   "metadata": {},
   "outputs": [],
   "source": [
    "# Defining our features to visualize word frequency\n",
    "X = ski['title_text']"
   ]
  },
  {
   "cell_type": "code",
   "execution_count": 27,
   "metadata": {},
   "outputs": [],
   "source": [
    "# Instantiating CountVectorizer\n",
    "cvec = CountVectorizer(max_features=500, stop_words='english')"
   ]
  },
  {
   "cell_type": "code",
   "execution_count": 28,
   "metadata": {},
   "outputs": [],
   "source": [
    "# Vectorizing features\n",
    "X_cvec = cvec.fit_transform(X);"
   ]
  },
  {
   "cell_type": "code",
   "execution_count": 29,
   "metadata": {},
   "outputs": [],
   "source": [
    "# Turning our vectorized features into a data frame\n",
    "df_ski = pd.DataFrame(X_cvec.toarray(), columns = cvec.get_feature_names())"
   ]
  },
  {
   "cell_type": "code",
   "execution_count": 30,
   "metadata": {},
   "outputs": [
    {
     "data": {
      "text/html": [
       "<div>\n",
       "<style scoped>\n",
       "    .dataframe tbody tr th:only-of-type {\n",
       "        vertical-align: middle;\n",
       "    }\n",
       "\n",
       "    .dataframe tbody tr th {\n",
       "        vertical-align: top;\n",
       "    }\n",
       "\n",
       "    .dataframe thead th {\n",
       "        text-align: right;\n",
       "    }\n",
       "</style>\n",
       "<table border=\"1\" class=\"dataframe\">\n",
       "  <thead>\n",
       "    <tr style=\"text-align: right;\">\n",
       "      <th></th>\n",
       "      <th>able</th>\n",
       "      <th>actually</th>\n",
       "      <th>add</th>\n",
       "      <th>advance</th>\n",
       "      <th>advanced</th>\n",
       "      <th>advice</th>\n",
       "      <th>aggressive</th>\n",
       "      <th>ago</th>\n",
       "      <th>air</th>\n",
       "      <th>alpine</th>\n",
       "      <th>...</th>\n",
       "      <th>work</th>\n",
       "      <th>working</th>\n",
       "      <th>worried</th>\n",
       "      <th>worth</th>\n",
       "      <th>wrong</th>\n",
       "      <th>www</th>\n",
       "      <th>xb</th>\n",
       "      <th>year</th>\n",
       "      <th>years</th>\n",
       "      <th>youtube</th>\n",
       "    </tr>\n",
       "  </thead>\n",
       "  <tbody>\n",
       "    <tr>\n",
       "      <th>0</th>\n",
       "      <td>0</td>\n",
       "      <td>0</td>\n",
       "      <td>0</td>\n",
       "      <td>1</td>\n",
       "      <td>1</td>\n",
       "      <td>0</td>\n",
       "      <td>0</td>\n",
       "      <td>0</td>\n",
       "      <td>0</td>\n",
       "      <td>0</td>\n",
       "      <td>...</td>\n",
       "      <td>1</td>\n",
       "      <td>0</td>\n",
       "      <td>0</td>\n",
       "      <td>0</td>\n",
       "      <td>0</td>\n",
       "      <td>0</td>\n",
       "      <td>0</td>\n",
       "      <td>0</td>\n",
       "      <td>1</td>\n",
       "      <td>0</td>\n",
       "    </tr>\n",
       "    <tr>\n",
       "      <th>1</th>\n",
       "      <td>0</td>\n",
       "      <td>0</td>\n",
       "      <td>0</td>\n",
       "      <td>0</td>\n",
       "      <td>0</td>\n",
       "      <td>1</td>\n",
       "      <td>0</td>\n",
       "      <td>0</td>\n",
       "      <td>0</td>\n",
       "      <td>0</td>\n",
       "      <td>...</td>\n",
       "      <td>0</td>\n",
       "      <td>0</td>\n",
       "      <td>0</td>\n",
       "      <td>0</td>\n",
       "      <td>0</td>\n",
       "      <td>0</td>\n",
       "      <td>0</td>\n",
       "      <td>0</td>\n",
       "      <td>0</td>\n",
       "      <td>0</td>\n",
       "    </tr>\n",
       "    <tr>\n",
       "      <th>2</th>\n",
       "      <td>0</td>\n",
       "      <td>0</td>\n",
       "      <td>0</td>\n",
       "      <td>0</td>\n",
       "      <td>0</td>\n",
       "      <td>0</td>\n",
       "      <td>0</td>\n",
       "      <td>0</td>\n",
       "      <td>0</td>\n",
       "      <td>0</td>\n",
       "      <td>...</td>\n",
       "      <td>0</td>\n",
       "      <td>0</td>\n",
       "      <td>0</td>\n",
       "      <td>0</td>\n",
       "      <td>0</td>\n",
       "      <td>0</td>\n",
       "      <td>0</td>\n",
       "      <td>0</td>\n",
       "      <td>0</td>\n",
       "      <td>0</td>\n",
       "    </tr>\n",
       "    <tr>\n",
       "      <th>3</th>\n",
       "      <td>0</td>\n",
       "      <td>0</td>\n",
       "      <td>0</td>\n",
       "      <td>0</td>\n",
       "      <td>0</td>\n",
       "      <td>0</td>\n",
       "      <td>0</td>\n",
       "      <td>0</td>\n",
       "      <td>0</td>\n",
       "      <td>0</td>\n",
       "      <td>...</td>\n",
       "      <td>0</td>\n",
       "      <td>0</td>\n",
       "      <td>0</td>\n",
       "      <td>0</td>\n",
       "      <td>0</td>\n",
       "      <td>2</td>\n",
       "      <td>0</td>\n",
       "      <td>0</td>\n",
       "      <td>0</td>\n",
       "      <td>0</td>\n",
       "    </tr>\n",
       "    <tr>\n",
       "      <th>4</th>\n",
       "      <td>0</td>\n",
       "      <td>1</td>\n",
       "      <td>0</td>\n",
       "      <td>0</td>\n",
       "      <td>1</td>\n",
       "      <td>0</td>\n",
       "      <td>0</td>\n",
       "      <td>0</td>\n",
       "      <td>0</td>\n",
       "      <td>0</td>\n",
       "      <td>...</td>\n",
       "      <td>0</td>\n",
       "      <td>0</td>\n",
       "      <td>0</td>\n",
       "      <td>0</td>\n",
       "      <td>0</td>\n",
       "      <td>0</td>\n",
       "      <td>0</td>\n",
       "      <td>0</td>\n",
       "      <td>0</td>\n",
       "      <td>0</td>\n",
       "    </tr>\n",
       "  </tbody>\n",
       "</table>\n",
       "<p>5 rows × 500 columns</p>\n",
       "</div>"
      ],
      "text/plain": [
       "   able  actually  add  advance  advanced  advice  aggressive  ago  air  \\\n",
       "0     0         0    0        1         1       0           0    0    0   \n",
       "1     0         0    0        0         0       1           0    0    0   \n",
       "2     0         0    0        0         0       0           0    0    0   \n",
       "3     0         0    0        0         0       0           0    0    0   \n",
       "4     0         1    0        0         1       0           0    0    0   \n",
       "\n",
       "   alpine  ...  work  working  worried  worth  wrong  www  xb  year  years  \\\n",
       "0       0  ...     1        0        0      0      0    0   0     0      1   \n",
       "1       0  ...     0        0        0      0      0    0   0     0      0   \n",
       "2       0  ...     0        0        0      0      0    0   0     0      0   \n",
       "3       0  ...     0        0        0      0      0    2   0     0      0   \n",
       "4       0  ...     0        0        0      0      0    0   0     0      0   \n",
       "\n",
       "   youtube  \n",
       "0        0  \n",
       "1        0  \n",
       "2        0  \n",
       "3        0  \n",
       "4        0  \n",
       "\n",
       "[5 rows x 500 columns]"
      ]
     },
     "execution_count": 30,
     "metadata": {},
     "output_type": "execute_result"
    }
   ],
   "source": [
    "df_ski.head()"
   ]
  },
  {
   "cell_type": "code",
   "execution_count": 31,
   "metadata": {
    "scrolled": false
   },
   "outputs": [
    {
     "data": {
      "text/plain": [
       "<matplotlib.axes._subplots.AxesSubplot at 0x1a2a0486d0>"
      ]
     },
     "execution_count": 31,
     "metadata": {},
     "output_type": "execute_result"
    },
    {
     "data": {
      "image/png": "[encoded data removed]",
      "text/plain": [
       "<Figure size 432x288 with 1 Axes>"
      ]
     },
     "metadata": {
      "needs_background": "light"
     },
     "output_type": "display_data"
    }
   ],
   "source": [
    "# Creating a bar chart with the most frequent words\n",
    "df_ski.sum().sort_values(ascending = False).head(10).plot(kind = 'barh')"
   ]
  },
  {
   "cell_type": "markdown",
   "metadata": {},
   "source": [
    "#### Note:\n",
    "Unsurprisingly, 'skis', 'skiing', and 'ski' were the most popular words. These, however, must be removed because we want to show that there is a difference between skiing and snowboarding aside from the words themselves. If we keep these words in, it will be way too easy and defeat the purpose of the classification. I suspect we will find the same for snowboarding. I will add these words to a modified list of stop words."
   ]
  },
  {
   "cell_type": "code",
   "execution_count": 32,
   "metadata": {},
   "outputs": [],
   "source": [
    "# Defining custom stop words\n",
    "from sklearn.feature_extraction.text import ENGLISH_STOP_WORDS\n",
    "my_stop_words = ENGLISH_STOP_WORDS.union({\n",
    "    'ski',\n",
    "    'skiing',\n",
    "    'skis',\n",
    "    'snowboarding',\n",
    "    'snowboard',\n",
    "    'board',\n",
    "    'skier',\n",
    "    'skied',\n",
    "    'skiers',\n",
    "    'snowboards',\n",
    "    'boards',\n",
    "    'boarding'\n",
    "})"
   ]
  },
  {
   "cell_type": "markdown",
   "metadata": {},
   "source": [
    "### Snowboarding Data"
   ]
  },
  {
   "cell_type": "code",
   "execution_count": 33,
   "metadata": {},
   "outputs": [],
   "source": [
    "# Going through the same process as I did for skiing above\n",
    "X = board['title_text']"
   ]
  },
  {
   "cell_type": "code",
   "execution_count": 34,
   "metadata": {},
   "outputs": [],
   "source": [
    "cvec = CountVectorizer(max_features=500, stop_words='english')"
   ]
  },
  {
   "cell_type": "code",
   "execution_count": 35,
   "metadata": {},
   "outputs": [],
   "source": [
    "X_cvec = cvec.fit_transform(X)"
   ]
  },
  {
   "cell_type": "code",
   "execution_count": 36,
   "metadata": {},
   "outputs": [],
   "source": [
    "df_board = pd.DataFrame(X_cvec.toarray(), columns = cvec.get_feature_names())"
   ]
  },
  {
   "cell_type": "code",
   "execution_count": 37,
   "metadata": {
    "scrolled": true
   },
   "outputs": [
    {
     "data": {
      "text/plain": [
       "<matplotlib.axes._subplots.AxesSubplot at 0x1a21a2ae50>"
      ]
     },
     "execution_count": 37,
     "metadata": {},
     "output_type": "execute_result"
    },
    {
     "data": {
      "image/png": "[encoded data removed]",
      "text/plain": [
       "<Figure size 432x288 with 1 Axes>"
      ]
     },
     "metadata": {
      "needs_background": "light"
     },
     "output_type": "display_data"
    }
   ],
   "source": [
    "df_board.sum().sort_values(ascending = False).head(20).plot(kind = 'barh')"
   ]
  },
  {
   "cell_type": "markdown",
   "metadata": {},
   "source": [
    "As suspected, 'snowboarding', 'board', and 'snowboard' are very popular. I added these to my modified list of stop words."
   ]
  },
  {
   "cell_type": "markdown",
   "metadata": {},
   "source": [
    "## Toy Models\n",
    "I will run a couple simple models to see how they perform, test different features, and explore what features are important."
   ]
  },
  {
   "cell_type": "code",
   "execution_count": 38,
   "metadata": {},
   "outputs": [],
   "source": [
    "# Defining our feature vectors and prediction vector\n",
    "X = ski_board['text']\n",
    "y = ski_board['class']"
   ]
  },
  {
   "cell_type": "code",
   "execution_count": 39,
   "metadata": {},
   "outputs": [
    {
     "data": {
      "text/plain": [
       "1    52.063623\n",
       "0    47.936377\n",
       "Name: class, dtype: float64"
      ]
     },
     "execution_count": 39,
     "metadata": {},
     "output_type": "execute_result"
    }
   ],
   "source": [
    "# Baseline accuracy\n",
    "y.value_counts(normalize=True)*100"
   ]
  },
  {
   "cell_type": "code",
   "execution_count": 40,
   "metadata": {},
   "outputs": [],
   "source": [
    "# Train test split\n",
    "X_train, X_test, y_train, y_test = train_test_split(X, y, random_state=42, stratify=y)"
   ]
  },
  {
   "cell_type": "code",
   "execution_count": 41,
   "metadata": {},
   "outputs": [],
   "source": [
    "# Vectorizing our features\n",
    "cvec = CountVectorizer(max_features=500, stop_words=my_stop_words)\n",
    "X_train_cvec = cvec.fit_transform(X_train)\n",
    "X_test_cvec = cvec.transform(X_test)"
   ]
  },
  {
   "cell_type": "code",
   "execution_count": 42,
   "metadata": {},
   "outputs": [],
   "source": [
    "# Creating a data frame of the word frequency\n",
    "df_features = pd.DataFrame(X_train_cvec.toarray(), columns = cvec.get_feature_names())"
   ]
  },
  {
   "cell_type": "code",
   "execution_count": 43,
   "metadata": {},
   "outputs": [
    {
     "data": {
      "text/plain": [
       "<matplotlib.axes._subplots.AxesSubplot at 0x1a2a418090>"
      ]
     },
     "execution_count": 43,
     "metadata": {},
     "output_type": "execute_result"
    },
    {
     "data": {
      "image/png": "[encoded data removed]",
      "text/plain": [
       "<Figure size 432x288 with 1 Axes>"
      ]
     },
     "metadata": {
      "needs_background": "light"
     },
     "output_type": "display_data"
    }
   ],
   "source": [
    "# Graphing the words with the highest word frequency\n",
    "df_features.sum().sort_values(ascending = False).head(20).plot(kind = 'barh')"
   ]
  },
  {
   "cell_type": "markdown",
   "metadata": {},
   "source": [
    "### Decision Trees"
   ]
  },
  {
   "cell_type": "code",
   "execution_count": 44,
   "metadata": {},
   "outputs": [],
   "source": [
    "from sklearn.tree import DecisionTreeClassifier"
   ]
  },
  {
   "cell_type": "code",
   "execution_count": 45,
   "metadata": {},
   "outputs": [],
   "source": [
    "dt = DecisionTreeClassifier(random_state=42)"
   ]
  },
  {
   "cell_type": "code",
   "execution_count": 46,
   "metadata": {},
   "outputs": [
    {
     "data": {
      "text/plain": [
       "DecisionTreeClassifier(ccp_alpha=0.0, class_weight=None, criterion='gini',\n",
       "                       max_depth=None, max_features=None, max_leaf_nodes=None,\n",
       "                       min_impurity_decrease=0.0, min_impurity_split=None,\n",
       "                       min_samples_leaf=1, min_samples_split=2,\n",
       "                       min_weight_fraction_leaf=0.0, presort='deprecated',\n",
       "                       random_state=42, splitter='best')"
      ]
     },
     "execution_count": 46,
     "metadata": {},
     "output_type": "execute_result"
    }
   ],
   "source": [
    "dt.fit(X_train_cvec, y_train)"
   ]
  },
  {
   "cell_type": "code",
   "execution_count": 47,
   "metadata": {},
   "outputs": [
    {
     "name": "stdout",
     "output_type": "stream",
     "text": [
      "Score on training set: 0.9921375022856098\n",
      "Score on testing set: 0.6326754385964912\n"
     ]
    }
   ],
   "source": [
    "print(f'Score on training set: {dt.score(X_train_cvec, y_train)}')\n",
    "print(f'Score on testing set: {dt.score(X_test_cvec, y_test)}')"
   ]
  },
  {
   "cell_type": "markdown",
   "metadata": {},
   "source": [
    "#### Note on Decision Trees:\n",
    "As we could have expected, our decision tree model was highly overfit. "
   ]
  },
  {
   "cell_type": "code",
   "execution_count": 48,
   "metadata": {
    "scrolled": false
   },
   "outputs": [
    {
     "data": {
      "image/png": "[encoded data removed]",
      "text/plain": [
       "<Figure size 432x288 with 1 Axes>"
      ]
     },
     "metadata": {
      "needs_background": "light"
     },
     "output_type": "display_data"
    }
   ],
   "source": [
    "# Sorting our most important features to get an idea of what is driving the decision tree model\n",
    "pd.Series(data=dt.feature_importances_,\n",
    "          index=cvec.get_feature_names()).sort_values(ascending=False).head(15).plot(kind='barh');"
   ]
  },
  {
   "cell_type": "markdown",
   "metadata": {},
   "source": [
    "#### Note on Feature Importance:\n",
    "The first four words are expected. \"Riding\" and \"ride\" are common snowboarding terms, and \"Burton\" is one of the top brands for snowboarding. \"Pair\" makes sense because it is likely used more in skiing since you refer to a pair of skis or ski poles. Some of the other words, like 'really,\" are not intuitive. I also discovered some more words that should be removed such as 'skier' and 'skied.' I will add these to my list of stop words above."
   ]
  },
  {
   "cell_type": "code",
   "execution_count": 49,
   "metadata": {},
   "outputs": [],
   "source": [
    "# from sklearn.tree import export_graphviz\n",
    "# export_graphviz(dt,\n",
    "#                out_file=\"./test.dot\",\n",
    "#                feature_names=cvec.get_feature_names(),\n",
    "#                class_names=['skiing','snowboarding'],\n",
    "#                rounded=True,\n",
    "#                filled=True)"
   ]
  },
  {
   "cell_type": "markdown",
   "metadata": {},
   "source": [
    "#### Stop Words:\n",
    "I will try to fit a model using the english stop words. This will leave in words like \"skiing\" and \"snowboarding.\" I suspect our model will perform much better."
   ]
  },
  {
   "cell_type": "code",
   "execution_count": 50,
   "metadata": {},
   "outputs": [],
   "source": [
    "cvec = CountVectorizer(max_features=500, stop_words='english')\n",
    "X_train_cvec_2 = cvec.fit_transform(X_train)\n",
    "X_test_cvec_2 = cvec.transform(X_test)"
   ]
  },
  {
   "cell_type": "code",
   "execution_count": 51,
   "metadata": {},
   "outputs": [],
   "source": [
    "dt_2 = DecisionTreeClassifier(random_state=42)"
   ]
  },
  {
   "cell_type": "code",
   "execution_count": 52,
   "metadata": {},
   "outputs": [
    {
     "data": {
      "text/plain": [
       "DecisionTreeClassifier(ccp_alpha=0.0, class_weight=None, criterion='gini',\n",
       "                       max_depth=None, max_features=None, max_leaf_nodes=None,\n",
       "                       min_impurity_decrease=0.0, min_impurity_split=None,\n",
       "                       min_samples_leaf=1, min_samples_split=2,\n",
       "                       min_weight_fraction_leaf=0.0, presort='deprecated',\n",
       "                       random_state=42, splitter='best')"
      ]
     },
     "execution_count": 52,
     "metadata": {},
     "output_type": "execute_result"
    }
   ],
   "source": [
    "dt_2.fit(X_train_cvec_2, y_train)"
   ]
  },
  {
   "cell_type": "code",
   "execution_count": 53,
   "metadata": {},
   "outputs": [
    {
     "name": "stdout",
     "output_type": "stream",
     "text": [
      "Score on training set: 0.9932345949899433\n",
      "Score on testing set: 0.7883771929824561\n"
     ]
    }
   ],
   "source": [
    "print(f'Score on training set: {dt_2.score(X_train_cvec_2, y_train)}')\n",
    "print(f'Score on testing set: {dt_2.score(X_test_cvec_2, y_test)}')"
   ]
  },
  {
   "cell_type": "markdown",
   "metadata": {},
   "source": [
    "#### Note on Stop Words:\n",
    "As expected, the better score was acheived with only the english stop words. When I added back in my custom stop words, the accuracy rose by about 15 percent. Unfortunately, we have to remove words like \"ski\" and \"snowboard\" because the purpose of doing this classification is to determine if there is a difference between skiers and snowboarding aside from the words themselves. It is clear from the large rise in accuracy when adding them in that these words are driving the model."
   ]
  },
  {
   "cell_type": "markdown",
   "metadata": {},
   "source": [
    "### Logistic Regression"
   ]
  },
  {
   "cell_type": "code",
   "execution_count": 54,
   "metadata": {},
   "outputs": [],
   "source": [
    "from sklearn.linear_model import LogisticRegression"
   ]
  },
  {
   "cell_type": "code",
   "execution_count": 55,
   "metadata": {},
   "outputs": [],
   "source": [
    "lr = LogisticRegression(random_state=42)"
   ]
  },
  {
   "cell_type": "code",
   "execution_count": 56,
   "metadata": {},
   "outputs": [
    {
     "data": {
      "text/plain": [
       "LogisticRegression(C=1.0, class_weight=None, dual=False, fit_intercept=True,\n",
       "                   intercept_scaling=1, l1_ratio=None, max_iter=100,\n",
       "                   multi_class='auto', n_jobs=None, penalty='l2',\n",
       "                   random_state=42, solver='lbfgs', tol=0.0001, verbose=0,\n",
       "                   warm_start=False)"
      ]
     },
     "execution_count": 56,
     "metadata": {},
     "output_type": "execute_result"
    }
   ],
   "source": [
    "lr.fit(X_train_cvec, y_train)"
   ]
  },
  {
   "cell_type": "code",
   "execution_count": 57,
   "metadata": {},
   "outputs": [
    {
     "name": "stdout",
     "output_type": "stream",
     "text": [
      "Score on training set: 0.7544340830133479\n",
      "Score on testing set: 0.6968201754385965\n"
     ]
    }
   ],
   "source": [
    "print(f'Score on training set: {lr.score(X_train_cvec, y_train)}')\n",
    "print(f'Score on testing set: {lr.score(X_test_cvec, y_test)}')"
   ]
  },
  {
   "cell_type": "markdown",
   "metadata": {},
   "source": [
    "#### Note on Logistic Regression Model:\n",
    "The logistic regression model had a higher bias, but a much lower variance. It still did not perform much above baseline, so I am beginning to think the subreddits may not be that separable.\n",
    "\n",
    "### Stemming and Lemmatizing\n",
    "I will run a few simple models to see if stemming or lemmatizing the text improves performance.\n",
    "\n",
    "#### Stemming"
   ]
  },
  {
   "cell_type": "code",
   "execution_count": 58,
   "metadata": {},
   "outputs": [],
   "source": [
    "# Stemming the text\n",
    "from nltk.stem.snowball import SnowballStemmer\n",
    "stemmer = SnowballStemmer('english')\n",
    "ski_board['text'] = ski_board['text'].map(lambda x: ' '.join([stemmer.stem(word) for word in x.split(' ')]))"
   ]
  },
  {
   "cell_type": "code",
   "execution_count": 59,
   "metadata": {},
   "outputs": [],
   "source": [
    "# Defining our feature vectors and prediction vector and doing a train test split\n",
    "X = ski_board['text']\n",
    "y = ski_board['class']\n",
    "X_train, X_test, y_train, y_test = train_test_split(X, y, random_state=42, stratify=y)"
   ]
  },
  {
   "cell_type": "code",
   "execution_count": 60,
   "metadata": {},
   "outputs": [],
   "source": [
    "# Vectorizing the features\n",
    "cvec = CountVectorizer(max_features=500, stop_words=my_stop_words)\n",
    "X_train_cvec = cvec.fit_transform(X_train)\n",
    "X_test_cvec = cvec.transform(X_test)"
   ]
  },
  {
   "cell_type": "markdown",
   "metadata": {},
   "source": [
    "#### Decision Tree with Stemming"
   ]
  },
  {
   "cell_type": "code",
   "execution_count": 61,
   "metadata": {},
   "outputs": [
    {
     "data": {
      "text/plain": [
       "DecisionTreeClassifier(ccp_alpha=0.0, class_weight=None, criterion='gini',\n",
       "                       max_depth=None, max_features=None, max_leaf_nodes=None,\n",
       "                       min_impurity_decrease=0.0, min_impurity_split=None,\n",
       "                       min_samples_leaf=1, min_samples_split=2,\n",
       "                       min_weight_fraction_leaf=0.0, presort='deprecated',\n",
       "                       random_state=42, splitter='best')"
      ]
     },
     "execution_count": 61,
     "metadata": {},
     "output_type": "execute_result"
    }
   ],
   "source": [
    "dt = DecisionTreeClassifier(random_state=42)\n",
    "dt.fit(X_train_cvec, y_train)"
   ]
  },
  {
   "cell_type": "code",
   "execution_count": 62,
   "metadata": {
    "scrolled": true
   },
   "outputs": [
    {
     "name": "stdout",
     "output_type": "stream",
     "text": [
      "Score on training set: 0.9930517462058878\n",
      "Score on testing set: 0.6140350877192983\n"
     ]
    }
   ],
   "source": [
    "print(f'Score on training set: {dt.score(X_train_cvec, y_train)}')\n",
    "print(f'Score on testing set: {dt.score(X_test_cvec, y_test)}')"
   ]
  },
  {
   "cell_type": "markdown",
   "metadata": {},
   "source": [
    "#### Logistic Regression with Stemming"
   ]
  },
  {
   "cell_type": "code",
   "execution_count": 63,
   "metadata": {},
   "outputs": [
    {
     "data": {
      "text/plain": [
       "LogisticRegression(C=1.0, class_weight=None, dual=False, fit_intercept=True,\n",
       "                   intercept_scaling=1, l1_ratio=None, max_iter=100,\n",
       "                   multi_class='auto', n_jobs=None, penalty='l2',\n",
       "                   random_state=42, solver='lbfgs', tol=0.0001, verbose=0,\n",
       "                   warm_start=False)"
      ]
     },
     "execution_count": 63,
     "metadata": {},
     "output_type": "execute_result"
    }
   ],
   "source": [
    "lr = LogisticRegression(random_state=42)\n",
    "lr.fit(X_train_cvec, y_train)"
   ]
  },
  {
   "cell_type": "code",
   "execution_count": 64,
   "metadata": {},
   "outputs": [
    {
     "name": "stdout",
     "output_type": "stream",
     "text": [
      "Score on training set: 0.751325653684403\n",
      "Score on testing set: 0.6902412280701754\n"
     ]
    }
   ],
   "source": [
    "print(f'Score on training set: {lr.score(X_train_cvec, y_train)}')\n",
    "print(f'Score on testing set: {lr.score(X_test_cvec, y_test)}')"
   ]
  },
  {
   "cell_type": "markdown",
   "metadata": {},
   "source": [
    "#### Lemmatizing"
   ]
  },
  {
   "cell_type": "code",
   "execution_count": 65,
   "metadata": {},
   "outputs": [],
   "source": [
    "# Lemmatizing the text\n",
    "from nltk.stem import WordNetLemmatizer\n",
    "lemmer = WordNetLemmatizer()\n",
    "ski_board['text'] = ski_board['text'].map(lambda x: ' '.join([lemmer.lemmatize(word) for word in x.split(' ')]))"
   ]
  },
  {
   "cell_type": "code",
   "execution_count": 66,
   "metadata": {},
   "outputs": [],
   "source": [
    "# Defining our feature vectors and prediction vector and doing a train test split\n",
    "X = ski_board['text']\n",
    "y = ski_board['class']\n",
    "X_train, X_test, y_train, y_test = train_test_split(X, y, random_state=42, stratify=y)"
   ]
  },
  {
   "cell_type": "code",
   "execution_count": 67,
   "metadata": {},
   "outputs": [],
   "source": [
    "# Vectorizing the features\n",
    "cvec = CountVectorizer(max_features=500, stop_words=my_stop_words)\n",
    "X_train_cvec = cvec.fit_transform(X_train)\n",
    "X_test_cvec = cvec.transform(X_test)"
   ]
  },
  {
   "cell_type": "markdown",
   "metadata": {},
   "source": [
    "#### Decision Tree with Lemmatizing"
   ]
  },
  {
   "cell_type": "code",
   "execution_count": 68,
   "metadata": {},
   "outputs": [
    {
     "data": {
      "text/plain": [
       "DecisionTreeClassifier(ccp_alpha=0.0, class_weight=None, criterion='gini',\n",
       "                       max_depth=None, max_features=None, max_leaf_nodes=None,\n",
       "                       min_impurity_decrease=0.0, min_impurity_split=None,\n",
       "                       min_samples_leaf=1, min_samples_split=2,\n",
       "                       min_weight_fraction_leaf=0.0, presort='deprecated',\n",
       "                       random_state=42, splitter='best')"
      ]
     },
     "execution_count": 68,
     "metadata": {},
     "output_type": "execute_result"
    }
   ],
   "source": [
    "dt = DecisionTreeClassifier(random_state=42)\n",
    "dt.fit(X_train_cvec, y_train)"
   ]
  },
  {
   "cell_type": "code",
   "execution_count": 69,
   "metadata": {},
   "outputs": [
    {
     "name": "stdout",
     "output_type": "stream",
     "text": [
      "Score on training set: 0.9930517462058878\n",
      "Score on testing set: 0.6069078947368421\n"
     ]
    }
   ],
   "source": [
    "print(f'Score on training set: {dt.score(X_train_cvec, y_train)}')\n",
    "print(f'Score on testing set: {dt.score(X_test_cvec, y_test)}')"
   ]
  },
  {
   "cell_type": "markdown",
   "metadata": {},
   "source": [
    "#### Logistic Regression with Lemmatizing"
   ]
  },
  {
   "cell_type": "code",
   "execution_count": 70,
   "metadata": {},
   "outputs": [
    {
     "data": {
      "text/plain": [
       "LogisticRegression(C=1.0, class_weight=None, dual=False, fit_intercept=True,\n",
       "                   intercept_scaling=1, l1_ratio=None, max_iter=100,\n",
       "                   multi_class='auto', n_jobs=None, penalty='l2',\n",
       "                   random_state=42, solver='lbfgs', tol=0.0001, verbose=0,\n",
       "                   warm_start=False)"
      ]
     },
     "execution_count": 70,
     "metadata": {},
     "output_type": "execute_result"
    }
   ],
   "source": [
    "lr = LogisticRegression(random_state=42)\n",
    "lr.fit(X_train_cvec, y_train)"
   ]
  },
  {
   "cell_type": "code",
   "execution_count": 71,
   "metadata": {},
   "outputs": [
    {
     "name": "stdout",
     "output_type": "stream",
     "text": [
      "Score on training set: 0.748217224355458\n",
      "Score on testing set: 0.6825657894736842\n"
     ]
    }
   ],
   "source": [
    "print(f'Score on training set: {lr.score(X_train_cvec, y_train)}')\n",
    "print(f'Score on testing set: {lr.score(X_test_cvec, y_test)}')"
   ]
  },
  {
   "cell_type": "markdown",
   "metadata": {},
   "source": [
    "#### Note on Stemming and Lemmatizing:\n",
    "Stemming and lemmatizing the text hardly change the model's performance. If anything, it made it slightly less accurate. I will likely not stem or lemmatize the text."
   ]
  }
 ],
 "metadata": {
  "kernelspec": {
   "display_name": "Python 3",
   "language": "python",
   "name": "python3"
  },
  "language_info": {
   "codemirror_mode": {
    "name": "ipython",
    "version": 3
   },
   "file_extension": ".py",
   "mimetype": "text/x-python",
   "name": "python",
   "nbconvert_exporter": "python",
   "pygments_lexer": "ipython3",
   "version": "3.7.4"
  }
 },
 "nbformat": 4,
 "nbformat_minor": 2
}
